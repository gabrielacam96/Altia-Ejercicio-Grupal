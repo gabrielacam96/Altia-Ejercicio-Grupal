{
 "cells": [
  {
   "cell_type": "markdown",
   "id": "d8d9d224",
   "metadata": {},
   "source": [
    " # Ejercicio 3\n",
    " ## Realizar pruebas unitarias para asegurar el correcto funcionamiento de cada módulo.\n"
   ]
  },
  {
   "cell_type": "code",
   "execution_count": null,
   "id": "4e1e1ef7",
   "metadata": {},
   "outputs": [],
   "source": [
    "import pandas as pd\n",
    "import unittest\n",
    "\n",
    "url = \"https://demodata.grapecity.com/contoso/api/v1/employees\"\n",
    "json_name = \"employees.json\"\n",
    "\n",
    "class Test(unittest.TestCase):\n",
    "    def readApi(self):\n",
    "        # Test para ver si lee de la api\n",
    "        df = self.dowload_data(url,json_name)\n",
    "        self.assertFalse(df.empty)\n",
    "\n",
    "\n",
    "    def filtros(self):\n",
    "        #Test para ver si aplica filtros\n",
    "        df = self.get_current_employees(\"\")\n",
    "        self.assertTrue(df['isCurrent'].all())\n",
    "        \n",
    "        df = self.get_married_employees(\"\")\n",
    "        self.assertTrue((df['Married'] == True).all())\n",
    "\n",
    "        df = self.get_last_name_start_with(\"\", \"S\")\n",
    "        self.assertTrue(df['LastName'].str.startswith(\"S\").all())\n",
    "\n",
    "    def exportar(self):\n",
    "        #Test para ver si exporta a csv\n",
    "        nombre_archivo = \"employees.csv\"\n",
    "        try:\n",
    "            df = self.exportar(\"https://demodata.grapecity.com/contoso/api/v1/employees\", nombre_archivo)\n",
    "            self.assertTrue(nombre_archivo.endswith(\".csv\"))\n",
    "            df = pd.read_csv(nombre_archivo)\n",
    "            self.assertIsInstance(df, pd.DataFrame)\n",
    "        except Exception as e:\n",
    "            self.fail(f\"No se pudo leer el archivo CSV: {e}\")\n",
    "\n",
    "\n",
    "if __name__ == '__main__':\n",
    "    unittest.main()"
   ]
  }
 ],
 "metadata": {
  "kernelspec": {
   "display_name": "Python 3",
   "language": "python",
   "name": "python3"
  },
  "language_info": {
   "codemirror_mode": {
    "name": "ipython",
    "version": 3
   },
   "file_extension": ".py",
   "mimetype": "text/x-python",
   "name": "python",
   "nbconvert_exporter": "python",
   "pygments_lexer": "ipython3",
   "version": "3.13.7"
  }
 },
 "nbformat": 4,
 "nbformat_minor": 5
}
